{
 "cells": [
  {
   "cell_type": "markdown",
   "metadata": {},
   "source": [
    "Adaptado do livro \"Automate the Boring Stuff with Python: Practical Programming for Total Beginners\""
   ]
  },
  {
   "cell_type": "code",
   "execution_count": 13,
   "metadata": {},
   "outputs": [
    {
     "name": "stdout",
     "output_type": "stream",
     "text": [
      "Veja o quadro como ficou:\n",
      "\n",
      " | | \n",
      "-+-+-\n",
      " | | \n",
      "-+-+-\n",
      " | | \n"
     ]
    }
   ],
   "source": [
    "# Primeiro construímos um quadro com as posições que queremos e um espaço em branco\n",
    "# neste espaço, serão colocados os \n",
    "\n",
    "theBoard = {'1': ' ' , '2': ' ' , '3': ' ' ,\n",
    "            '4': ' ' , '5': ' ' , '6': ' ' ,\n",
    "            '7': ' ' , '8': ' ' , '9': ' ' }\n",
    "\n",
    "board_keys = []\n",
    "\n",
    "for key in theBoard:\n",
    "    board_keys.append(key)\n",
    "\n",
    "''' We will have to print the updated board after every move in the game and \n",
    "    thus we will make a function in which we'll define the printBoard function\n",
    "    so that we can easily print the board everytime by calling this function. '''\n",
    "\n",
    "def printBoard(board):\n",
    "    print(board['1'] + '|' + board['2'] + '|' + board['3'])\n",
    "    print('-+-+-')\n",
    "    print(board['4'] + '|' + board['5'] + '|' + board['6'])\n",
    "    print('-+-+-')\n",
    "    print(board['7'] + '|' + board['8'] + '|' + board['9'])\n",
    "\n",
    "print(\"Veja o quadro como ficou:\\n\")\n",
    "printBoard(theBoard)"
   ]
  },
  {
   "cell_type": "code",
   "execution_count": 7,
   "metadata": {},
   "outputs": [
    {
     "ename": "IndentationError",
     "evalue": "unexpected indent (<ipython-input-7-03449fb0c0b0>, line 2)",
     "output_type": "error",
     "traceback": [
      "\u001b[0;36m  File \u001b[0;32m\"<ipython-input-7-03449fb0c0b0>\"\u001b[0;36m, line \u001b[0;32m2\u001b[0m\n\u001b[0;31m    if count >= 5:\u001b[0m\n\u001b[0m    ^\u001b[0m\n\u001b[0;31mIndentationError\u001b[0m\u001b[0;31m:\u001b[0m unexpected indent\n"
     ]
    }
   ],
   "source": [
    "# Now we'll write the main function which has all the gameplay functionality.\n",
    "def game():\n",
    "\n",
    "    turn = 'X'\n",
    "    count = 0\n",
    "\n",
    "\n",
    "    for i in range(10):\n",
    "        printBoard(theBoard)\n",
    "        print(\"It's your turn,\" + turn + \".Move to which place?\")\n",
    "\n",
    "        move = input()        \n",
    "\n",
    "        if theBoard[move] == ' ':\n",
    "            theBoard[move] = turn\n",
    "            count += 1\n",
    "        else:\n",
    "            print(\"That place is already filled.\\nMove to which place?\")\n",
    "            continue\n",
    "\n",
    "        # Now we will check if player X or O has won,for every move after 5 moves. \n",
    "        if count >= 5:\n",
    "            if theBoard['7'] == theBoard['8'] == theBoard['9'] != ' ': # across the top\n",
    "                printBoard(theBoard)\n",
    "                print(\"\\nGame Over.\\n\")                \n",
    "                print(\" **** \" +turn + \" won. ****\")                \n",
    "                break\n",
    "            elif theBoard['4'] == theBoard['5'] == theBoard['6'] != ' ': # across the middle\n",
    "                printBoard(theBoard)\n",
    "                print(\"\\nGame Over.\\n\")                \n",
    "                print(\" **** \" +turn + \" won. ****\")\n",
    "                break\n",
    "            elif theBoard['1'] == theBoard['2'] == theBoard['3'] != ' ': # across the bottom\n",
    "                printBoard(theBoard)\n",
    "                print(\"\\nGame Over.\\n\")                \n",
    "                print(\" **** \" +turn + \" won. ****\")\n",
    "                break\n",
    "            elif theBoard['1'] == theBoard['4'] == theBoard['7'] != ' ': # down the left side\n",
    "                printBoard(theBoard)\n",
    "                print(\"\\nGame Over.\\n\")                \n",
    "                print(\" **** \" +turn + \" won. ****\")\n",
    "                break\n",
    "            elif theBoard['2'] == theBoard['5'] == theBoard['8'] != ' ': # down the middle\n",
    "                printBoard(theBoard)\n",
    "                print(\"\\nGame Over.\\n\")                \n",
    "                print(\" **** \" +turn + \" won. ****\")\n",
    "                break\n",
    "            elif theBoard['3'] == theBoard['6'] == theBoard['9'] != ' ': # down the right side\n",
    "                printBoard(theBoard)\n",
    "                print(\"\\nGame Over.\\n\")                \n",
    "                print(\" **** \" +turn + \" won. ****\")\n",
    "                break \n",
    "            elif theBoard['7'] == theBoard['5'] == theBoard['3'] != ' ': # diagonal\n",
    "                printBoard(theBoard)\n",
    "                print(\"\\nGame Over.\\n\")                \n",
    "                print(\" **** \" +turn + \" won. ****\")\n",
    "                break\n",
    "            elif theBoard['1'] == theBoard['5'] == theBoard['9'] != ' ': # diagonal\n",
    "                printBoard(theBoard)\n",
    "                print(\"\\nGame Over.\\n\")                \n",
    "                print(\" **** \" +turn + \" won. ****\")\n",
    "                break \n",
    "\n",
    "        # If neither X nor O wins and the board is full, we'll declare the result as 'tie'.\n",
    "        if count == 9:\n",
    "            print(\"\\nGame Over.\\n\")                \n",
    "            print(\"It's a Tie!!\")\n",
    "\n",
    "        # Now we have to change the player after every move.\n",
    "        if turn =='X':\n",
    "            turn = 'O'\n",
    "        else:\n",
    "            turn = 'X'        \n",
    "    \n",
    "    # Now we will ask if player wants to restart the game or not.\n",
    "    restart = input(\"Do want to play Again?(y/n)\")\n",
    "    if restart == \"y\" or restart == \"Y\":  \n",
    "        for key in board_keys:\n",
    "            theBoard[key] = \" \"\n",
    "\n",
    "        game()\n",
    "\n",
    "if __name__ == \"__main__\":\n",
    "    game()"
   ]
  },
  {
   "cell_type": "code",
   "execution_count": null,
   "metadata": {},
   "outputs": [],
   "source": []
  }
 ],
 "metadata": {
  "kernelspec": {
   "display_name": "Python 3",
   "language": "python",
   "name": "python3"
  },
  "language_info": {
   "codemirror_mode": {
    "name": "ipython",
    "version": 3
   },
   "file_extension": ".py",
   "mimetype": "text/x-python",
   "name": "python",
   "nbconvert_exporter": "python",
   "pygments_lexer": "ipython3",
   "version": "3.7.6"
  }
 },
 "nbformat": 4,
 "nbformat_minor": 4
}
